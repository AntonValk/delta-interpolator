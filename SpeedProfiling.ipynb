{
 "cells": [
  {
   "cell_type": "code",
   "execution_count": 1,
   "id": "744049eb",
   "metadata": {},
   "outputs": [],
   "source": [
    "import argparse\n",
    "import yaml\n",
    "\n",
    "import os\n",
    "import random\n",
    "import logging\n",
    "\n",
    "import numpy as np\n",
    "import pytorch_lightning as pl\n",
    "import torch\n",
    "from hydra.utils import instantiate\n",
    "from pytorch_lightning.callbacks import ModelCheckpoint, LearningRateMonitor\n",
    "\n",
    "from omegaconf import OmegaConf\n",
    "\n",
    "from src.utils.export_model import ModelExport\n",
    "from src.utils.tensorboard import TensorBoardLoggerWithMetrics\n",
    "from src.utils.model_factory import ModelFactory\n",
    "from src.utils.options import BaseOptions\n",
    "from src.utils.versioning import get_git_diff\n",
    "\n",
    "from hydra.experimental import compose, initialize\n",
    "from sklearn.model_selection import ParameterGrid\n",
    "from src.utils.checkpointing import set_latest_checkpoint\n",
    "from src.data.sequence_module import AlternateSequenceDataModule\n",
    "\n",
    "# register models\n",
    "import src.models"
   ]
  },
  {
   "cell_type": "code",
   "execution_count": 2,
   "id": "fd2a6d83",
   "metadata": {},
   "outputs": [
    {
     "name": "stderr",
     "output_type": "stream",
     "text": [
      "/opt/conda/lib/python3.7/site-packages/hydra/core/utils.py:143: UserWarning: register_resolver() is deprecated.\n",
      "See https://github.com/omry/omegaconf/issues/426 for migration instructions.\n",
      "\n",
      "  OmegaConf.register_resolver(name, f)\n"
     ]
    }
   ],
   "source": [
    "filepath = 'src/configs/transformer.yaml'\n",
    "\n",
    "with open(filepath) as f:\n",
    "    experiment_cfg = yaml.load(f, Loader=yaml.SafeLoader)\n",
    "    \n",
    "    \n",
    "config_path = \"src/configs\"\n",
    "initialize(config_path=config_path)\n",
    "\n",
    "base_config = experiment_cfg[\"base_config\"]\n",
    "experiment_params = experiment_cfg[\"parameters\"]\n",
    "for k in experiment_params:\n",
    "    if not isinstance(experiment_params[k], list):\n",
    "        experiment_params[k] = [experiment_params[k]]\n",
    "\n",
    "param_grid = ParameterGrid(experiment_params)"
   ]
  },
  {
   "cell_type": "code",
   "execution_count": 3,
   "id": "02345014",
   "metadata": {},
   "outputs": [],
   "source": [
    "param_set = param_grid[0]\n",
    "param_overrides = []\n",
    "\n",
    "for k in param_set:\n",
    "    param_overrides.append(k + \"=\" + str(param_set[k]))\n",
    "\n",
    "cfg = compose(base_config + \".yaml\", overrides=param_overrides)\n",
    "set_latest_checkpoint(cfg)\n",
    "\n",
    "cfg = OmegaConf.to_container(cfg.model, resolve=True)\n",
    "cfg = OmegaConf.create(cfg)\n",
    "OmegaConf.set_struct(cfg, True)"
   ]
  },
  {
   "cell_type": "code",
   "execution_count": 4,
   "id": "a32d1dda",
   "metadata": {},
   "outputs": [
    {
     "name": "stderr",
     "output_type": "stream",
     "text": [
      "/opt/conda/lib/python3.7/site-packages/hydra/utils.py:32: UserWarning: `OmegaConf.is_none()` is deprecated, see https://github.com/omry/omegaconf/issues/547\n",
      "  if OmegaConf.is_none(config):\n",
      "/opt/conda/lib/python3.7/site-packages/hydra/utils.py:32: UserWarning: `OmegaConf.is_none()` is deprecated, see https://github.com/omry/omegaconf/issues/547\n",
      "  if OmegaConf.is_none(config):\n"
     ]
    }
   ],
   "source": [
    "dm = instantiate(cfg.dataset, batch_size=8)\n",
    "dm.setup()"
   ]
  },
  {
   "cell_type": "code",
   "execution_count": 5,
   "id": "5af3104e",
   "metadata": {},
   "outputs": [],
   "source": [
    "model = ModelFactory.instantiate(cfg, skeleton=dm.get_skeleton())"
   ]
  },
  {
   "cell_type": "code",
   "execution_count": 6,
   "id": "df6e9617",
   "metadata": {},
   "outputs": [],
   "source": [
    "from src.data.datasets import SplitFileDatabaseLoader\n",
    "from src.data.typed_table import TypedColumnSequenceDataset\n",
    "from src.geometry.skeleton import Skeleton\n",
    "from src.data.batched_sequence_dataset import LafanSequenceDataset\n",
    "from src.evaluation.l2q_error import L2Q\n",
    "from src.evaluation.l2p_error import L2P\n",
    "from src.evaluation.npss_error import NPSS\n",
    "from src.data.frame_sampler import MiddleFramesRemover\n",
    "from src.data.augmentation import BatchRemoveQuatDiscontinuities, BatchYRotateOnFrame, \\\n",
    "    BatchCenterXZ\n",
    "from tqdm.auto import tqdm\n",
    "import torch\n",
    "\n",
    "split = SplitFileDatabaseLoader('../datasets').pull('deeppose_lafan_v1_fps30')\n",
    "lafan_val_raw = TypedColumnSequenceDataset(split, subset=\"Validation\")\n",
    "\n",
    "lafan_val_raw.remove_short_sequences(65)\n",
    "lafan_val_raw.format_as_sliding_windows(65, 40)\n",
    "\n",
    "skeleton_data = lafan_val_raw.config[\"skeleton\"]\n",
    "skeleton = Skeleton(skeleton_data)\n",
    "skeleton.remove_joints(['LeftToeEnd', 'RightToeEnd', 'LeftHandEnd', 'RightHandEnd', 'HeadEnd'])\n",
    "\n",
    "validation_dataset = LafanSequenceDataset(source=lafan_val_raw, skeleton=skeleton,\n",
    "                                           batch_size=1,  shuffle=False,  drop_last=False,\n",
    "                                           seed=0, min_length=65, max_length=65)\n",
    "\n",
    "frame_sampler = MiddleFramesRemover(past_context=10, future_context=1, middle_frames=30)"
   ]
  },
  {
   "cell_type": "code",
   "execution_count": 7,
   "id": "933ccee9",
   "metadata": {},
   "outputs": [
    {
     "data": {
      "application/vnd.jupyter.widget-view+json": {
       "model_id": "e6ee7dade7f94336ae87fbda21a723d9",
       "version_major": 2,
       "version_minor": 0
      },
      "text/plain": [
       "HBox(children=(FloatProgress(value=0.0, max=2232.0), HTML(value='')))"
      ]
     },
     "metadata": {},
     "output_type": "display_data"
    },
    {
     "name": "stdout",
     "output_type": "stream",
     "text": [
      "\n"
     ]
    }
   ],
   "source": [
    "torch.set_num_threads(12)\n",
    "\n",
    "for i in tqdm(range(len(validation_dataset))):\n",
    "    b = validation_dataset[i]\n",
    "    \n",
    "    past_frames, future_frames, target_frames = model.get_data_from_batch(b, frame_sampler=frame_sampler)\n",
    "    target_data, predicted = model.forward_wrapped(past_frames, future_frames, target_frames)\n",
    "    "
   ]
  },
  {
   "cell_type": "code",
   "execution_count": null,
   "id": "b1100463",
   "metadata": {},
   "outputs": [],
   "source": []
  }
 ],
 "metadata": {
  "kernelspec": {
   "display_name": "Python 3",
   "language": "python",
   "name": "python3"
  },
  "language_info": {
   "codemirror_mode": {
    "name": "ipython",
    "version": 3
   },
   "file_extension": ".py",
   "mimetype": "text/x-python",
   "name": "python",
   "nbconvert_exporter": "python",
   "pygments_lexer": "ipython3",
   "version": "3.7.7"
  }
 },
 "nbformat": 4,
 "nbformat_minor": 5
}
